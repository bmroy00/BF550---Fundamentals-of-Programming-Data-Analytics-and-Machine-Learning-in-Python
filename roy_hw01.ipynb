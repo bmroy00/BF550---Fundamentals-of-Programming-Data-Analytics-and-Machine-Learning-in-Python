{
 "cells": [
  {
   "cell_type": "code",
   "execution_count": 1,
   "id": "ec258cfe",
   "metadata": {},
   "outputs": [
    {
     "data": {
      "text/plain": [
       "'CCTTATG'"
      ]
     },
     "execution_count": 1,
     "metadata": {},
     "output_type": "execute_result"
    }
   ],
   "source": [
    "#(1)\n",
    "\n",
    "def comp_seq_gen(x):\n",
    "    #returns a DNA sequence complementary to the one entered\n",
    "    \n",
    "    orig_seq = x\n",
    "    \n",
    "    #create dictionary of which bases are complementary to each other\n",
    "    comp_bases = {'C':'G','G':'C','A':'T','T':'A'}\n",
    "    \n",
    "    #set the complementary sequence to be blank\n",
    "    comp_seq = ''\n",
    "    \n",
    "    #add bases complementary to the original to the new sequence\n",
    "    for i in orig_seq:\n",
    "        comp_seq = comp_seq + comp_bases[i]\n",
    "    \n",
    "    return(comp_seq)\n",
    "\n",
    "comp_seq_gen('GGAATAC')"
   ]
  },
  {
   "cell_type": "code",
   "execution_count": 2,
   "id": "2495a722",
   "metadata": {},
   "outputs": [
    {
     "data": {
      "text/plain": [
       "'CCTAATG'"
      ]
     },
     "execution_count": 2,
     "metadata": {},
     "output_type": "execute_result"
    }
   ],
   "source": [
    "#(1) updated to take both upper and lower case\n",
    "\n",
    "def comp_seq_gen(x):\n",
    "    #returns a DNA sequence complementary to the one entered\n",
    "    \n",
    "    #always make the original sequence to uppercase letters\n",
    "    orig_seq = x.upper()\n",
    "    \n",
    "    #create dictionary of which bases are complementary to each other\n",
    "    comp_bases = {'C':'G','G':'C','A':'T','T':'A'}\n",
    "    \n",
    "    #set the complementary sequence to be blank\n",
    "    comp_seq = ''\n",
    "    \n",
    "    #add bases complementary to the original to the new sequence\n",
    "    for i in orig_seq:\n",
    "        comp_seq = comp_seq + comp_bases[i]\n",
    "    \n",
    "    return(comp_seq)\n",
    "\n",
    "comp_seq_gen('ggaTTAc')"
   ]
  },
  {
   "cell_type": "code",
   "execution_count": 3,
   "id": "1de6eb85",
   "metadata": {},
   "outputs": [
    {
     "data": {
      "text/plain": [
       "'GTAATCC'"
      ]
     },
     "execution_count": 3,
     "metadata": {},
     "output_type": "execute_result"
    }
   ],
   "source": [
    "#(1) updated to be able to change direction of complementary DNA seq\n",
    "\n",
    "def comp_seq_gen(x, direction='same'):\n",
    "    #returns a DNA sequence complementary to the one entered\n",
    "    \n",
    "    #always make the original sequence to uppercase letters\n",
    "    orig_seq = x.upper()\n",
    "    \n",
    "    #create dictionary of which bases are complementary to each other\n",
    "    comp_bases = {'C':'G','G':'C','A':'T','T':'A'}\n",
    "    \n",
    "    #set the complementary sequence to be blank\n",
    "    comp_seq = ''\n",
    "    \n",
    "    #add bases complementary to the original to the new sequence\n",
    "    #if direction is 'same', do same as before\n",
    "    #if direction is anything else, traverse original sequence backwards to let the comp sequence be reversed\n",
    "    if direction == 'same':\n",
    "        for i in orig_seq:\n",
    "            comp_seq = comp_seq + comp_bases[i]\n",
    "    else:\n",
    "        for i in range(len(orig_seq)-1,-1,-1):\n",
    "            g = orig_seq[i]\n",
    "            comp_seq = comp_seq + comp_bases[g]\n",
    "    \n",
    "    return(comp_seq)\n",
    "\n",
    "comp_seq_gen('ggaTTAc', 'reverse')"
   ]
  },
  {
   "cell_type": "code",
   "execution_count": 8,
   "id": "a2964caa",
   "metadata": {},
   "outputs": [
    {
     "data": {
      "text/plain": [
       "True"
      ]
     },
     "execution_count": 8,
     "metadata": {},
     "output_type": "execute_result"
    }
   ],
   "source": [
    "#(2)\n",
    "\n",
    "def prime_tester(x):\n",
    "    #tests if a number, \"x\", is prime\n",
    "    \n",
    "    #account for negative numbers\n",
    "    x = abs(x)\n",
    "    \n",
    "    #base case: 1 is always prime\n",
    "    if x == 1:\n",
    "        return(False)\n",
    "    \n",
    "    #set is_prime to be True to be disproven if it isn't prime\n",
    "    is_prime = True\n",
    "        \n",
    "    #if x if divisible by anything between 2 and x-1 it isn't prime   \n",
    "    for i in range(2,x):\n",
    "        if x%i == 0:\n",
    "            is_prime = False\n",
    "    \n",
    "    return(is_prime)\n",
    "\n",
    "prime_tester(7)"
   ]
  },
  {
   "cell_type": "code",
   "execution_count": 12,
   "id": "228d56e7",
   "metadata": {},
   "outputs": [
    {
     "name": "stdout",
     "output_type": "stream",
     "text": [
      "Enter an initial guess for the square root of 1123:11\n"
     ]
    },
    {
     "data": {
      "text/plain": [
       "33.511192160232085"
      ]
     },
     "execution_count": 12,
     "metadata": {},
     "output_type": "execute_result"
    }
   ],
   "source": [
    "#(3)\n",
    "\n",
    "def sqrt(y, tol = 1e-6):\n",
    "    #returns a square root to y within the margin or error: \"tol\"\n",
    "    \n",
    "    #request an initial guess of the square root entered in the function call\n",
    "    x = int((input(\"Enter an initial guess for the square root of \" + str(y) + \":\")))\n",
    "    \n",
    "    #run Heron's algo until the difference between x squared and y is less than the margin of error\n",
    "    while abs(x*x - y) > tol:\n",
    "        x = heron_alg(y,x)\n",
    "        \n",
    "    return(x)\n",
    "    \n",
    "    #perform Heron's algo on a specified y and old x\n",
    "def heron_alg(y,x):\n",
    "    new_x = 0.5*(x+y/x) \n",
    "    return(new_x)\n",
    "\n",
    "sqrt(1123)"
   ]
  }
 ],
 "metadata": {
  "kernelspec": {
   "display_name": "Python 3 (ipykernel)",
   "language": "python",
   "name": "python3"
  },
  "language_info": {
   "codemirror_mode": {
    "name": "ipython",
    "version": 3
   },
   "file_extension": ".py",
   "mimetype": "text/x-python",
   "name": "python",
   "nbconvert_exporter": "python",
   "pygments_lexer": "ipython3",
   "version": "3.10.9"
  }
 },
 "nbformat": 4,
 "nbformat_minor": 5
}
