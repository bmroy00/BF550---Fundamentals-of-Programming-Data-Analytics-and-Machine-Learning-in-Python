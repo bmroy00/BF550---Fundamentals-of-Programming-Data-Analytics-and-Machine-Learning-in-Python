{
 "cells": [
  {
   "cell_type": "code",
   "execution_count": 69,
   "id": "49b67f1f",
   "metadata": {},
   "outputs": [],
   "source": [
    "import random \n",
    "import scipy.stats as stats"
   ]
  },
  {
   "cell_type": "code",
   "execution_count": 70,
   "id": "47aecbe6",
   "metadata": {},
   "outputs": [],
   "source": [
    "# Create samples of size N for treated and untreated pigs, each with their designated probabilities for infection\n",
    "\n",
    "def sample_generator(N):\n",
    "    treated_infected = 0\n",
    "    treated_noninfected = 0\n",
    "    \n",
    "    # generate treated pig numbers (prob of infection 0.1)\n",
    "    for i in range(N):\n",
    "        if random.randint(1,10) == 1:\n",
    "            treated_infected += 1\n",
    "        else:\n",
    "            treated_noninfected += 1\n",
    "            \n",
    "    untreated_infected = 0\n",
    "    untreated_noninfected = 0\n",
    "    \n",
    "    # generate untreated pig numbers (prob of infection 0.5)\n",
    "    for i in range(N):\n",
    "        if random.randint(1,10) <= 5:\n",
    "            untreated_infected += 1\n",
    "        else:\n",
    "            untreated_noninfected += 1\n",
    "            \n",
    "    return(treated_infected, treated_noninfected, untreated_infected, untreated_noninfected)"
   ]
  },
  {
   "cell_type": "code",
   "execution_count": 111,
   "id": "cb8a86f8",
   "metadata": {},
   "outputs": [],
   "source": [
    "# Use fisher's exact test to calculate the percentage of times out of 100 that the difference between the two groups of pigs\n",
    "# is significant using a = 0.05\n",
    "\n",
    "def significance_tester(n):\n",
    "    p_vals = [0] * 100\n",
    "    for i in range(100):\n",
    "        # Take input as size of groups of pigs\n",
    "        results = sample_generator(n)\n",
    "        oddsratio, p_vals[i] = stats.fisher_exact([[results[0],results[2]],[results[1],results[3]]])\n",
    "        \n",
    "    counter = 0\n",
    "    for j in range(len(p_vals)):\n",
    "        if p_vals[j] < 0.05:\n",
    "            counter += 1\n",
    "            \n",
    "    return(counter/100)"
   ]
  },
  {
   "cell_type": "code",
   "execution_count": 126,
   "id": "da6e0489",
   "metadata": {},
   "outputs": [
    {
     "data": {
      "text/plain": [
       "0.13"
      ]
     },
     "execution_count": 126,
     "metadata": {},
     "output_type": "execute_result"
    }
   ],
   "source": [
    "# Find the value of N where 90% of the time the difference is significant\n",
    "significance_tester(5)"
   ]
  },
  {
   "cell_type": "code",
   "execution_count": 127,
   "id": "cc50b418",
   "metadata": {},
   "outputs": [
    {
     "data": {
      "text/plain": [
       "0.32"
      ]
     },
     "execution_count": 127,
     "metadata": {},
     "output_type": "execute_result"
    }
   ],
   "source": [
    "significance_tester(10)"
   ]
  },
  {
   "cell_type": "code",
   "execution_count": 128,
   "id": "fde315dc",
   "metadata": {},
   "outputs": [
    {
     "data": {
      "text/plain": [
       "0.69"
      ]
     },
     "execution_count": 128,
     "metadata": {},
     "output_type": "execute_result"
    }
   ],
   "source": [
    "significance_tester(20)"
   ]
  },
  {
   "cell_type": "code",
   "execution_count": 129,
   "id": "e4a94d4c",
   "metadata": {},
   "outputs": [
    {
     "data": {
      "text/plain": [
       "0.8"
      ]
     },
     "execution_count": 129,
     "metadata": {},
     "output_type": "execute_result"
    }
   ],
   "source": [
    "significance_tester(25)"
   ]
  },
  {
   "cell_type": "code",
   "execution_count": 159,
   "id": "b609c27e",
   "metadata": {},
   "outputs": [
    {
     "data": {
      "text/plain": [
       "0.93"
      ]
     },
     "execution_count": 159,
     "metadata": {},
     "output_type": "execute_result"
    }
   ],
   "source": [
    "# Approximately N=30 gives us a 90% chance for a significant result at a = 0.05\n",
    "significance_tester(30)"
   ]
  }
 ],
 "metadata": {
  "kernelspec": {
   "display_name": "Python 3 (ipykernel)",
   "language": "python",
   "name": "python3"
  },
  "language_info": {
   "codemirror_mode": {
    "name": "ipython",
    "version": 3
   },
   "file_extension": ".py",
   "mimetype": "text/x-python",
   "name": "python",
   "nbconvert_exporter": "python",
   "pygments_lexer": "ipython3",
   "version": "3.10.9"
  }
 },
 "nbformat": 4,
 "nbformat_minor": 5
}
